{
  "cells": [
    {
      "cell_type": "code",
      "execution_count": 3,
      "metadata": {
        "id": "tQ84TI_jFv4u"
      },
      "outputs": [],
      "source": [
        "import pandas as pd\n",
        "import numpy as np\n",
        "import datetime"
      ]
    },
    {
      "cell_type": "code",
      "execution_count": 1,
      "metadata": {
        "id": "HkuxcWUFbNSE"
      },
      "outputs": [],
      "source": [
        "#Introduce the name of worksheet\n",
        "sheet_name='Rejected Household Report'"
      ]
    },
    {
      "cell_type": "code",
      "execution_count": null,
      "metadata": {},
      "outputs": [],
      "source": [
        "!pip install google.colab --user"
      ]
    },
    {
      "cell_type": "code",
      "execution_count": null,
      "metadata": {
        "id": "uatTEamSwAYi"
      },
      "outputs": [],
      "source": [
        "\n",
        "from google.colab import auth\n",
        "auth.authenticate_user()\n",
        "\n",
        "import gspread\n",
        "from google.auth import default\n",
        "creds, _ = default()\n",
        "\n",
        "gc = gspread.authorize(creds)\n",
        "wb = gc.open_by_url('https://docs.google.com/spreadsheets/d/18_-dXF7Szyg8knTqxPD5I8Pf6DZ1Gyden2lODcREdW8/edit#gid=59453973')\n",
        "\n",
        "datasource = wb.worksheet(sheet_name).get_all_records()\n",
        "\n",
        "df_original = pd.DataFrame.from_records(datasource)"
      ]
    },
    {
      "cell_type": "code",
      "execution_count": null,
      "metadata": {
        "id": "xCdB-yYhMppF"
      },
      "outputs": [],
      "source": [
        "#Displays the first 5 rows of the table\n",
        "#df_original.shape[0]"
      ]
    },
    {
      "cell_type": "code",
      "execution_count": null,
      "metadata": {
        "colab": {
          "base_uri": "https://localhost:8080/",
          "height": 832
        },
        "id": "bLwqkltmItLt",
        "outputId": "19083f5f-a106-4559-d46b-789daa3db3a9"
      },
      "outputs": [],
      "source": [
        "#Selects only the first 6 Columns of the table\n",
        "_=df_original.iloc[:,[0,1,2,3,4,5,34,35,36,37]]\n",
        "\n",
        "#Repeats each row by the number of days of the month.\n",
        "num_rows=df_original.shape[0]\n",
        "df_new=pd.concat([_]*28).sort_index().reset_index(drop=True)#'28' are the Days of the period\n",
        "df_new"
      ]
    },
    {
      "cell_type": "code",
      "execution_count": 5,
      "metadata": {
        "id": "GfDYSiku9Yzo"
      },
      "outputs": [],
      "source": [
        "\n",
        "list_of_values=[df_original.iloc[x,6:34] for x in range(num_rows)]\n",
        "\n",
        "df_values=pd.concat(list_of_values)\n",
        "Vals=pd.DataFrame(df_values)\n",
        "Vals.reset_index(inplace=True)\n",
        "Vals.columns=['Date','Type']\n",
        "\n",
        "df_new.insert(6,'Date of Rejection',Vals['Date'])\n",
        "df_new.insert(7,'Type of Rejection',Vals['Type'])\n",
        "\n"
      ]
    },
    {
      "cell_type": "code",
      "execution_count": null,
      "metadata": {
        "id": "wBEpnZYMWf-n"
      },
      "outputs": [],
      "source": [
        "df_new['Date of Rejection']= pd.to_datetime(df_new['Date of Rejection'], format='%d/%m') + pd.DateOffset(years=122)\n",
        "df_new['Date of Rejection']= df_new['Date of Rejection'].dt.strftime('%m-%d')\n",
        "df_new['Date of Rejection'] "
      ]
    },
    {
      "cell_type": "code",
      "execution_count": null,
      "metadata": {
        "id": "rBcwgTRpyh5X"
      },
      "outputs": [],
      "source": [
        "df_new.tail(10)"
      ]
    },
    {
      "cell_type": "code",
      "execution_count": null,
      "metadata": {
        "id": "ou0XmUqj7s9u"
      },
      "outputs": [],
      "source": [
        "wb.worksheet('New Rejected Household').update([df_new.columns.values.tolist()] + df_new.values.tolist())"
      ]
    }
  ],
  "metadata": {
    "colab": {
      "collapsed_sections": [],
      "name": "Unpivoting Monthly Reports",
      "provenance": []
    },
    "kernelspec": {
      "display_name": "Python 3.10.5 64-bit",
      "language": "python",
      "name": "python3"
    },
    "language_info": {
      "codemirror_mode": {
        "name": "ipython",
        "version": 3
      },
      "file_extension": ".py",
      "mimetype": "text/x-python",
      "name": "python",
      "nbconvert_exporter": "python",
      "pygments_lexer": "ipython3",
      "version": "3.10.5"
    },
    "vscode": {
      "interpreter": {
        "hash": "18cfe11ec18f3e90c63b35e3188434e95e2417e419ced323f7e4532655b19d48"
      }
    }
  },
  "nbformat": 4,
  "nbformat_minor": 0
}
